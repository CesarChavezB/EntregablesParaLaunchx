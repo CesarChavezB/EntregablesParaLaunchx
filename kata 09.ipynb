{
 "cells": [
  {
   "cell_type": "markdown",
   "metadata": {},
   "source": [
    "## kata 09\n"
   ]
  },
  {
   "cell_type": "code",
   "execution_count": 6,
   "metadata": {},
   "outputs": [],
   "source": [
    "def reporte(tanque1, tanque2, tanque3):\n",
    "    promedio = (tanque1 + tanque2 + tanque3) / 3\n",
    "    return promedio"
   ]
  },
  {
   "cell_type": "code",
   "execution_count": 7,
   "metadata": {},
   "outputs": [
    {
     "name": "stdout",
     "output_type": "stream",
     "text": [
      "93.66666666666667\n"
     ]
    }
   ],
   "source": [
    "print(reporte(85, 96, 100))"
   ]
  },
  {
   "cell_type": "code",
   "execution_count": 8,
   "metadata": {},
   "outputs": [
    {
     "data": {
      "text/plain": [
       "0.0"
      ]
     },
     "execution_count": 8,
     "metadata": {},
     "output_type": "execute_result"
    }
   ],
   "source": [
    "def promedio(t1, t2, t3):\n",
    "    suma = t1 + t2 + t3\n",
    "    total = 0\n",
    "    return total / suma \n"
   ]
  },
  {
   "cell_type": "code",
   "execution_count": 13,
   "metadata": {},
   "outputs": [
    {
     "name": "stdout",
     "output_type": "stream",
     "text": [
      " Tanque 1: 45, Tanque 2: 52, tanque 3: 56\n",
      "None\n"
     ]
    }
   ],
   "source": [
    "def reporte(tanque1, tanque2, tanque3):\n",
    "    print(f\"\"\" Tanque 1: {tanque1}, Tanque 2: {tanque2}, tanque 3: {tanque3}\"\"\")\n",
    "\n",
    "\n",
    "    "
   ]
  },
  {
   "cell_type": "code",
   "execution_count": 31,
   "metadata": {},
   "outputs": [],
   "source": [
    "def reporte(horadepre,tiempodevuelo, destino, tanquex, tanquein):\n",
    "    return f\"\"\" \n",
    "            Hora de prelanzamiento: {horadepre}.\n",
    "            Tiempos de vuelo {tiempodevuelo}. \n",
    "            Destino: {destino}.\n",
    "            Reservas {tanquex + tanquein}\"\"\"\n"
   ]
  },
  {
   "cell_type": "code",
   "execution_count": 27,
   "metadata": {},
   "outputs": [
    {
     "name": "stdout",
     "output_type": "stream",
     "text": [
      " \n",
      "                Destino: Moon. \n",
      "                Tiempo de viaje: 76.\n",
      "                reservas: 500000\n"
     ]
    }
   ],
   "source": [
    "def reporte(destino, *minutos, **reservas):\n",
    "    minutos_totales = sum(minutos)\n",
    "    reservas_totales = sum(reservas.values())\n",
    "    return f\"\"\" \n",
    "                Destino: {destino}. \n",
    "                Tiempo de viaje: {minutos_totales}.\n",
    "                reservas: {reservas_totales}\"\"\"\n",
    "\n"
   ]
  },
  {
   "cell_type": "code",
   "execution_count": 32,
   "metadata": {},
   "outputs": [],
   "source": [
    "def reporte(destino, *minutos, **reservas):\n",
    "    minutos_totales = sum(minutos)\n",
    "    reservas_totales = sum(reservas.values())\n",
    "    for tanque, galones in reservas.items():\n",
    "        reportefinal = f\"\"\"\n",
    "                        {tanque} galones {galones} quedan \\n \n",
    "                        En la mision a {destino}\n",
    "                        Quedando{minutos_totales} de camino\n",
    "                        Con {reservas_totales} galones de reserva total\"\"\"\n",
    "\n",
    "\n",
    "                        "
   ]
  }
 ],
 "metadata": {
  "interpreter": {
   "hash": "8b0d9d76ebb53e1e1c234f64226a8cff6a031e74cd28c8f5326276380e353cd4"
  },
  "kernelspec": {
   "display_name": "Python 3.10.2 64-bit (windows store)",
   "language": "python",
   "name": "python3"
  },
  "language_info": {
   "codemirror_mode": {
    "name": "ipython",
    "version": 3
   },
   "file_extension": ".py",
   "mimetype": "text/x-python",
   "name": "python",
   "nbconvert_exporter": "python",
   "pygments_lexer": "ipython3",
   "version": "3.10.2"
  },
  "orig_nbformat": 4
 },
 "nbformat": 4,
 "nbformat_minor": 2
}
