{
 "cells": [
  {
   "cell_type": "markdown",
   "metadata": {},
   "source": [
    "## Kata 05"
   ]
  },
  {
   "cell_type": "code",
   "execution_count": 2,
   "metadata": {},
   "outputs": [],
   "source": [
    "earth = 149597870\n",
    "jupyter = 778547200"
   ]
  },
  {
   "cell_type": "code",
   "execution_count": 3,
   "metadata": {},
   "outputs": [
    {
     "name": "stdout",
     "output_type": "stream",
     "text": [
      "-628949330\n",
      "-1012195830.53952\n"
     ]
    }
   ],
   "source": [
    "distance = earth - jupyter\n",
    "print(distance)\n",
    "print(distance *1.609344)"
   ]
  },
  {
   "cell_type": "code",
   "execution_count": 4,
   "metadata": {},
   "outputs": [],
   "source": [
    "earth = input(\"Tierra: \")\n",
    "jupyter = input(\"Jupiter: \")\n"
   ]
  },
  {
   "cell_type": "code",
   "execution_count": 5,
   "metadata": {},
   "outputs": [],
   "source": [
    "earth = int(earth)\n",
    "jupyter = int(jupyter)\n"
   ]
  },
  {
   "cell_type": "code",
   "execution_count": 6,
   "metadata": {},
   "outputs": [
    {
     "name": "stdout",
     "output_type": "stream",
     "text": [
      "3.218688\n"
     ]
    }
   ],
   "source": [
    "distance2 = abs(earth - jupyter)\n",
    "\n",
    "miledistance = distance2 * 1.609344\n",
    "\n",
    "print(miledistance)"
   ]
  }
 ],
 "metadata": {
  "interpreter": {
   "hash": "8b0d9d76ebb53e1e1c234f64226a8cff6a031e74cd28c8f5326276380e353cd4"
  },
  "kernelspec": {
   "display_name": "Python 3.10.2 64-bit (windows store)",
   "language": "python",
   "name": "python3"
  },
  "language_info": {
   "codemirror_mode": {
    "name": "ipython",
    "version": 3
   },
   "file_extension": ".py",
   "mimetype": "text/x-python",
   "name": "python",
   "nbconvert_exporter": "python",
   "pygments_lexer": "ipython3",
   "version": "3.10.2"
  },
  "orig_nbformat": 4
 },
 "nbformat": 4,
 "nbformat_minor": 2
}
