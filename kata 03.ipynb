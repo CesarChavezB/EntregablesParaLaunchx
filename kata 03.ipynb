{
 "cells": [
  {
   "cell_type": "markdown",
   "metadata": {},
   "source": [
    "## Kata 03\n",
    "  "
   ]
  },
  {
   "cell_type": "code",
   "execution_count": 1,
   "metadata": {},
   "outputs": [
    {
     "name": "stdout",
     "output_type": "stream",
     "text": [
      "Peligro. El asteroide es una amenaza\n"
     ]
    }
   ],
   "source": [
    "asteroid = 49\n",
    "\n",
    "if asteroid >= 25:\n",
    "    \n",
    "    print(\"Peligro. El asteroide es una amenaza\")\n",
    "\n",
    "else:\n",
    "    print(\"El asteroide no es una amenaza\")\n"
   ]
  },
  {
   "cell_type": "code",
   "execution_count": 2,
   "metadata": {},
   "outputs": [
    {
     "name": "stdout",
     "output_type": "stream",
     "text": [
      "El asteroide no genera luz\n"
     ]
    }
   ],
   "source": [
    "asteroid = 19\n",
    "\n",
    "if asteroid >= 20:\n",
    "    print(\"MIren la luz del asteroide\")\n",
    "\n",
    "elif asteroid == 20:\n",
    "    print(\"Miren la luz del asteroide\")\n",
    "\n",
    "else:\n",
    "    print(\"El asteroide no genera luz\")\n",
    "    "
   ]
  },
  {
   "cell_type": "code",
   "execution_count": 3,
   "metadata": {},
   "outputs": [
    {
     "name": "stdout",
     "output_type": "stream",
     "text": [
      "Warning, asteroid to widht\n"
     ]
    }
   ],
   "source": [
    "asteroid_width = 30\n",
    "asteroid_speed = 56\n",
    "\n",
    "if asteroid_speed > 25 and asteroid_width > 25:\n",
    "    print(\"El asteriode es una ameneza inminente\")\n",
    "\n",
    "elif asteroid_speed >=20:\n",
    "    print(\"Miren la luz del asteroide\")\n",
    "\n",
    "elif asteroid_speed < 25 and asteroid_width < 25:\n",
    "    print(\"El asteroide no es una amenaza\")\n",
    "\n",
    "else:\n",
    "    print(\"El asteroide no es una amenaza\")\n",
    "\n"
   ]
  }
 ],
 "metadata": {
  "interpreter": {
   "hash": "8b0d9d76ebb53e1e1c234f64226a8cff6a031e74cd28c8f5326276380e353cd4"
  },
  "kernelspec": {
   "display_name": "Python 3.10.2 64-bit (windows store)",
   "language": "python",
   "name": "python3"
  },
  "language_info": {
   "codemirror_mode": {
    "name": "ipython",
    "version": 3
   },
   "file_extension": ".py",
   "mimetype": "text/x-python",
   "name": "python",
   "nbconvert_exporter": "python",
   "pygments_lexer": "ipython3",
   "version": "3.10.2"
  },
  "orig_nbformat": 4
 },
 "nbformat": 4,
 "nbformat_minor": 2
}
